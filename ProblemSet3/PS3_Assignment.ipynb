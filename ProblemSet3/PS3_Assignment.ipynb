{
 "cells": [
  {
   "cell_type": "markdown",
   "id": "aaf557cf",
   "metadata": {},
   "source": [
    "# Problem Set 3\n",
    "## Due November 20, by 11:59pm\n",
    "\n",
    "### IMPORTANT: please submit on Gradescope a .pdf of this notebook with all output run.\n",
    "You can do this by going to `File`-->`Download As`-->`PDF via LaTeX (.pdf)`. Please do NOT submit a link to your notebook or the Jupyter Notebook file .ipynb.\n",
    "\n",
    "Professor: Julien Lafortune\n",
    "\n",
    "Economics 130 Fall 2024\n",
    "\n",
    "Student Name:\n",
    "\n",
    "Student ID: \n",
    "\n",
    "Collaborators (if any):"
   ]
  },
  {
   "cell_type": "markdown",
   "id": "53befddd",
   "metadata": {},
   "source": [
    "For this empirical problem set, you will examine the effects of class size on test scores using a Regression Discontinuity (RD) design. The data for this exercise are from the 1999 Angrist and Lavy paper described in lecture:\n",
    "\n",
    "Angrist, Joshua D., and Victor Lavy. 1999. “Using Maimonides’ Rule to Estimate the Effect of Class Size on Scholastic Achievement,” Quarterly Journal of Economics 114(2): 533–575. [Link](https://economics.mit.edu/files/8273).\n",
    "\n",
    "For this problem set, we will do an RD analysis of these data, which is slightly different from the models estimated in the paper. The techniques necessary for this problem set were covered in sections 9 and 10.\n",
    "\n",
    "**Submission:** Please submit a pdf of this Jupyter notebook on bCourses. If you choose to use a different langugage, be sure that you clearly label which questions your answers are addressing and include a copy of your code.\n",
    "\n",
    "You are welcome to collaborate with classmates, but you must note your collaborators and submit your own completed assignment. \n",
    "\n",
    "Hints are included for some of the questions. If you get stuck, try looking through the R section exercises, particularly sections 9 and 10. All of the commands you need will have been covered in section, or are provided below. One very helpful R tip: type help [commandname] to see the syntax for how a specific command works. Many answers to R questions are also available on online forums; Googling your specific question often results in a useful answer. \n"
   ]
  },
  {
   "cell_type": "markdown",
   "id": "7dda6a1e",
   "metadata": {},
   "source": [
    "## DATA SET INFORMATION\n",
    "Filename: final5_forPS3.csv\n",
    "Variables:\n",
    "* `schlcode`: School Code\n",
    "* `c_size`: Cohort size (within school)\n",
    "* `grade`: Class grade (=5 for all)\n",
    "* `classid`: Class sequence number in school \n",
    "* `classize`: Class size \n",
    "* `avgmath`: Average math score in class \n",
    "* `avgverb`: Average verbal score in class\n",
    "* `pct_disadvantaged`: Percent of school cohort disadvantaged\n",
    "\n",
    "R COMMANDS THAT WILL BE USEFUL:\n",
    "* `which`\n",
    "* `lm`\n",
    "* `summary`\n",
    "* `rdplot`"
   ]
  },
  {
   "cell_type": "markdown",
   "id": "fd0f036a",
   "metadata": {},
   "source": [
    "## Conceptual Background questions\n",
    "1. In this analysis, we are interested in the impact of class size on math and verbal test scores. If we want to estimate a causal relationship, why can’t we just estimate the relationship between class size and test scores in a simple regression? "
   ]
  },
  {
   "cell_type": "markdown",
   "id": "8b573cc0",
   "metadata": {},
   "source": [
    ""
   ]
  },
  {
   "cell_type": "markdown",
   "id": "d03e874b",
   "metadata": {},
   "source": [
    "2. Describe the assumptions necessary for a regression discontinuity estimate to be a valid causal estimate. "
   ]
  },
  {
   "cell_type": "markdown",
   "id": "b5cbcec3",
   "metadata": {},
   "source": [
    "For a regression discontinuity estimate to be a valid causal estimate, we have to assume that treatment assignment is "as good as random". Therefore, individuals just above and just below the treatment are comparable regarding pre-existing differences."
   ]
  },
  {
   "cell_type": "markdown",
   "id": "b38e8fdb",
   "metadata": {},
   "source": [
    "3. In this analysis, we will exploit the fact that class sizes above 40 are generally forbidden (“Maimonides rule”). This generates a discontinuity in class size at cohort sizes of 40: a cohort of 41 generally needs to have two classrooms, while a cohort of 39 can have 1 classroom. Do you think the assumptions in part (2) hold in this setting? Why or why not?"
   ]
  },
  {
   "cell_type": "markdown",
   "id": "22b190db",
   "metadata": {},
   "source": [
    "_Your response to #3 goes here_"
   ]
  },
  {
   "cell_type": "markdown",
   "id": "d0220fb7",
   "metadata": {},
   "source": [
    "## Visual RD Evidence using Binned Scatterplots"
   ]
  },
  {
   "cell_type": "code",
   "execution_count": 1,
   "id": "5fc84710",
   "metadata": {},
   "outputs": [],
   "source": [
    "# Preliminaries\n",
    "library('rdrobust')"
   ]
  },
  {
   "cell_type": "markdown",
   "id": "e7b366a6",
   "metadata": {},
   "source": [
    "1. Load in the data and keep only those cohorts with cohort sizes between 20 and 60 students.\n",
    "\n",
    "Hint: it can be useful to create a new dataset containing only those cohort sizes using the `which` command"
   ]
  },
  {
   "cell_type": "code",
   "execution_count": 2,
   "id": "95a7c1e8",
   "metadata": {},
   "outputs": [],
   "source": [
    "# Your code goes here"
   ]
  },
  {
   "cell_type": "markdown",
   "id": "e8588475",
   "metadata": {},
   "source": [
    "2. Produce a binned scatterplot showing how class size changes at the 40 student cutoff. \n",
    "\n",
    "Hint: you will want to use `rdplot`, with the following options: \n",
    "\n",
    "`rdplot( y = [yvariable] , x = [xvariable], c = 40.5, p = 1, \n",
    "       x.label = \"cohort size\",\n",
    "       y.label = \"class size\",\n",
    "       title = \"Regression Discontinuity\")`\n",
    "       \n",
    "If this command is not working, make sure you have loaded the `rdrobust` library by running the cell under the \"Visual RD Evidence\" title of this section."
   ]
  },
  {
   "cell_type": "code",
   "execution_count": 3,
   "id": "39668460",
   "metadata": {},
   "outputs": [],
   "source": [
    "# Your code goes here"
   ]
  },
  {
   "cell_type": "markdown",
   "id": "ffa29803",
   "metadata": {},
   "source": [
    "3. Interpret the graph in part (2). How does average class size change around the cutoff?"
   ]
  },
  {
   "cell_type": "markdown",
   "id": "dea3fcd3",
   "metadata": {},
   "source": [
    "*Your response to #3 goes here*"
   ]
  },
  {
   "cell_type": "markdown",
   "id": "c0fd1243",
   "metadata": {},
   "source": [
    "4. Do all schools with cohorts of less than 40 students choose to have one class? Do all schools follow the rule that classes cannot be larger than 40 students?\n",
    "\n",
    "Hint: you may find the `summary` command helpful (e.g. `summary([variable])`)\n",
    "Hint: it can be helpful to define new datasets with the `which` command first\n"
   ]
  },
  {
   "cell_type": "code",
   "execution_count": null,
   "id": "9a5cc67f",
   "metadata": {},
   "outputs": [],
   "source": [
    "# Your code goes here"
   ]
  },
  {
   "cell_type": "markdown",
   "id": "c0f29f6e",
   "metadata": {},
   "source": [
    "*Your response to #4 goes here--interpret the findings from your code*"
   ]
  },
  {
   "cell_type": "markdown",
   "id": "d25e8702",
   "metadata": {},
   "source": [
    "5. Produce two binned scatterplots, showing how average math and verbal scores change at the 40 student cutoff. "
   ]
  },
  {
   "cell_type": "code",
   "execution_count": null,
   "id": "2caa4733",
   "metadata": {},
   "outputs": [],
   "source": [
    "# Your code goes here"
   ]
  },
  {
   "cell_type": "markdown",
   "id": "73d2f882",
   "metadata": {},
   "source": [
    "6. Interpret the graphs in part (5). How do math and verbal scores change at the cutoff? What does that imply about the effect of smaller classes? "
   ]
  },
  {
   "cell_type": "markdown",
   "id": "c74a4f79",
   "metadata": {},
   "source": [
    "*Your response to #6 goes here*"
   ]
  },
  {
   "cell_type": "markdown",
   "id": "b6aabfa3",
   "metadata": {},
   "source": [
    "## Regression Estimates\n",
    "\n",
    "### Part 1\n",
    "We will begin by creating four variables:\n",
    "1. A \"recentered\" cohort size variable, which is equal to the cohort size minus the cutoff of 40 students. Name this variable `c_size_relative`.\n",
    "2. An indicator variable for having a \"recentered cohort size\" greater than zero (i.e. an indicator for being above the RD cutoff). Name this variable `above_cutoff`.\n",
    "2. An indicator variable for having a \"recentered cohort size\" less than or equal to zero (i.e. an indicator for being below the RD cutoff). Name this variable `below_cutoff`.\n",
    "3. A linear trend to estimate the slope above the cutoff (i.e. the product of (1) and (2)). Name this variable `c_size_trend_above`.\n",
    "4. A linear trend to estimate the slope below the cutoff (i.e. the product of (1) and (3)). Name this variable `c_size_trend_below`.\n",
    "\n",
    "*Hint: see the Section 10 exercise*"
   ]
  },
  {
   "cell_type": "code",
   "execution_count": null,
   "id": "f8479e45",
   "metadata": {},
   "outputs": [],
   "source": [
    "## Your code here for generating variables"
   ]
  },
  {
   "cell_type": "markdown",
   "id": "d44054d9",
   "metadata": {},
   "source": [
    "### Part 2\n",
    "Now, run the RD regression with class size as the dependent variable. \n",
    "\n",
    "*Hint: Use three of the variables you created above: the `above_cutoff` variable along with the two `trend` variables*\n",
    "\n",
    "1. What is the point estimate on the coefficient on being above the cutoff? \n",
    "1. What is the 95% confidence interval? \n",
    "1. What does that say about how class size changes across the 40-student cutoff? \n",
    "1. Does that conform with the graphical evidence in Part (2) of the Visual Evidence above?"
   ]
  },
  {
   "cell_type": "code",
   "execution_count": null,
   "id": "489c6975",
   "metadata": {},
   "outputs": [],
   "source": [
    "## Your code here"
   ]
  },
  {
   "cell_type": "markdown",
   "id": "92b5e025",
   "metadata": {},
   "source": [
    "Your responses to the questions here"
   ]
  },
  {
   "cell_type": "markdown",
   "id": "98c062ee",
   "metadata": {},
   "source": [
    "### Part 3\n",
    "Run the RD regression with math scores as the dependent variable. What is the point estimate on the coefficient on being above the cutoff and the 95% confidence interval?"
   ]
  },
  {
   "cell_type": "code",
   "execution_count": null,
   "id": "bdbe9607",
   "metadata": {},
   "outputs": [],
   "source": [
    "## Your code here"
   ]
  },
  {
   "cell_type": "markdown",
   "id": "36f27771",
   "metadata": {},
   "source": [
    "Your responses to the questions here"
   ]
  },
  {
   "cell_type": "markdown",
   "id": "f71b6316",
   "metadata": {},
   "source": [
    "### Part 4\n",
    "Run the RD regression again but with verbal scores as the dependent variable. What is the point estimate on the coefficient on being above the cutoff and the 95% confidence interval?"
   ]
  },
  {
   "cell_type": "code",
   "execution_count": null,
   "id": "09dececd",
   "metadata": {},
   "outputs": [],
   "source": [
    "## Your code here"
   ]
  },
  {
   "cell_type": "markdown",
   "id": "969619fe",
   "metadata": {},
   "source": [
    "Your responses here"
   ]
  },
  {
   "cell_type": "markdown",
   "id": "df5e78d1",
   "metadata": {},
   "source": [
    "### Part 5\n",
    "Interpret the results: using the estimates for test scores from Parts (3) and (4) and the class size estimates from Part (2), for a one-student change in class size, how much do test scores in math and verbal change?\n",
    "\n",
    "*Hint: try dividing one of the estimates by another*"
   ]
  },
  {
   "cell_type": "markdown",
   "id": "fa2a2bf5",
   "metadata": {},
   "source": [
    "Your responses here"
   ]
  },
  {
   "cell_type": "markdown",
   "id": "2f05b0c0",
   "metadata": {},
   "source": [
    "### Part 6\n",
    "Now run the RD regression with percent disadvantaged as a *dependent variable* rather than as a control. Does this estimate support or refute the RD assumptions outlined in Part (2) of the Conceptual Background Questions?\n",
    "\n",
    "*Hint: think about what a difference in cohort characteristics on both sides of the cutoff would imply about RD estimates. You may also find it helpful to plot the rdplot binned scatterplot figure*"
   ]
  },
  {
   "cell_type": "code",
   "execution_count": 1,
   "id": "2985c19f",
   "metadata": {},
   "outputs": [],
   "source": [
    "## Your code here"
   ]
  },
  {
   "cell_type": "markdown",
   "id": "8c625be2",
   "metadata": {},
   "source": [
    "Your response here"
   ]
  },
  {
   "cell_type": "markdown",
   "id": "431c6cdc",
   "metadata": {},
   "source": [
    "### Optional: Part 7 \n",
    "Repeat parts (2), (3), and (4) but including the percent disadvantaged in the school as a control variable. How do the point estimates change? Are they more or less precise (e.g. do they have a wider or a narrower confidence interval?)"
   ]
  },
  {
   "cell_type": "code",
   "execution_count": 2,
   "id": "7b51be4d",
   "metadata": {},
   "outputs": [],
   "source": [
    "## Your code here"
   ]
  },
  {
   "cell_type": "markdown",
   "id": "9f6fd456",
   "metadata": {},
   "source": [
    "Your response here"
   ]
  },
  {
   "cell_type": "markdown",
   "id": "c2cbd5ce",
   "metadata": {},
   "source": [
    "### Optional\n",
    "Reload the data, and keep only schools with cohort sizes between 60 and 100 students. Repeat the analysis for the cutoff at 80 students. How does change in class size at the cutoff compare? How do the test score estimates compare? How does the implied effect per a 1-unit change in class size compare?\n",
    "\n",
    "*Hint: an easy way to do this is to make a copy of your Jupyter Notebook and change only the lines of code that are affected because the data analysis is essentially identical.*"
   ]
  },
  {
   "cell_type": "markdown",
   "id": "43ce1819",
   "metadata": {},
   "source": [
    "## Policy Interpretation\n",
    "\n",
    "1. Without using economics jargon, explaing what the findings in Parts 2-5 of the Regression Estimates imply about policies to reduce class sizes. Do you think the effects are causal estimates?"
   ]
  },
  {
   "cell_type": "markdown",
   "id": "a7c3a11e",
   "metadata": {},
   "source": [
    "Your response here"
   ]
  },
  {
   "cell_type": "markdown",
   "id": "9db9aabd",
   "metadata": {},
   "source": [
    "2. Suppose your local school district has class sizes of around 30-35 students. The superintendent comes to you for advice on a policy to reduce classes by 10 students. Based on your own analysis of the data from Angrist and Lavy (1999) in the Regression Estimates, what advice would you give and why?\n",
    "\n",
    "*Hint: Look at your figure in question 2b. What is the average class size above the cutoff and below the cutoff?*\n"
   ]
  },
  {
   "cell_type": "markdown",
   "id": "70bff513",
   "metadata": {},
   "source": [
    "Your response here"
   ]
  },
  {
   "cell_type": "markdown",
   "id": "18797681",
   "metadata": {},
   "source": [
    "3. Now suppose your local school district currently has class sizes of around 15-20 students. Would your advice change? Why or why not? Explain in both plain English and in economics jargon."
   ]
  },
  {
   "cell_type": "markdown",
   "id": "257aa848",
   "metadata": {},
   "source": [
    "Your response here"
   ]
  },
  {
   "cell_type": "markdown",
   "id": "378d2f67",
   "metadata": {},
   "source": [
    "4. Suppose new data are uncovered on the 6th grade test scores for these same students who you studied in the Regression Estiamtes. A new analysis shows there was no differences in 6th grade test scores for students that had smaller class sizes in 5th grade due to Maimonides rule. Does this change your answers from Policy Interpretation Parts (2) and (3)? Why or why not? "
   ]
  },
  {
   "cell_type": "markdown",
   "id": "23fd9f72",
   "metadata": {},
   "source": [
    "Your response here"
   ]
  }
 ],
 "metadata": {
  "kernelspec": {
   "display_name": "R",
   "language": "R",
   "name": "ir"
  },
  "language_info": {
   "codemirror_mode": "r",
   "file_extension": ".r",
   "mimetype": "text/x-r-source",
   "name": "R",
   "pygments_lexer": "r",
   "version": "4.4.1"
  }
 },
 "nbformat": 4,
 "nbformat_minor": 5
}
